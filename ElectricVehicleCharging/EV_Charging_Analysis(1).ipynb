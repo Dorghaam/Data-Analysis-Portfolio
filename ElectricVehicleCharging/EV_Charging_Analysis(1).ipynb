{
 "cells": [
  {
   "cell_type": "markdown",
   "id": "d08ae3f0-1933-41d6-a9bb-1c1c951e6f0e",
   "metadata": {},
   "source": [
    "# Electric Vehicle Charging Analysis"
   ]
  },
  {
   "cell_type": "markdown",
   "id": "1638b7ab-2291-45dd-9427-13c1a424b6f8",
   "metadata": {},
   "source": [
    "## Importing all necessary libraries"
   ]
  },
  {
   "cell_type": "code",
   "execution_count": 2,
   "id": "6fe00dd0-0f51-49cd-812a-13668579779a",
   "metadata": {},
   "outputs": [],
   "source": [
    "import pandas as pd\n",
    "import numpy as np\n",
    "import matplotlib.pyplot as plt"
   ]
  },
  {
   "cell_type": "markdown",
   "id": "c60aa40c-ffeb-4197-97f4-d809db7568bf",
   "metadata": {},
   "source": [
    "## Reading the CSV file into a pandas DataFrame\n",
    "Now, we will read the EV charging dataset into a pandas DataFrame so we can analyze the data.\n"
   ]
  },
  {
   "cell_type": "code",
   "execution_count": 3,
   "id": "a55bf6ce-57ef-4b76-8bc1-0b53374c0958",
   "metadata": {},
   "outputs": [
    {
     "data": {
      "text/html": [
       "<div>\n",
       "<style scoped>\n",
       "    .dataframe tbody tr th:only-of-type {\n",
       "        vertical-align: middle;\n",
       "    }\n",
       "\n",
       "    .dataframe tbody tr th {\n",
       "        vertical-align: top;\n",
       "    }\n",
       "\n",
       "    .dataframe thead th {\n",
       "        text-align: right;\n",
       "    }\n",
       "</style>\n",
       "<table border=\"1\" class=\"dataframe\">\n",
       "  <thead>\n",
       "    <tr style=\"text-align: right;\">\n",
       "      <th></th>\n",
       "      <th>User ID</th>\n",
       "      <th>Vehicle Model</th>\n",
       "      <th>Battery Capacity (kWh)</th>\n",
       "      <th>Charging Station ID</th>\n",
       "      <th>Charging Station Location</th>\n",
       "      <th>Charging Start Time</th>\n",
       "      <th>Charging End Time</th>\n",
       "      <th>Energy Consumed (kWh)</th>\n",
       "      <th>Charging Duration (hours)</th>\n",
       "      <th>Charging Rate (kW)</th>\n",
       "      <th>Charging Cost (USD)</th>\n",
       "      <th>Time of Day</th>\n",
       "      <th>Day of Week</th>\n",
       "      <th>State of Charge (Start %)</th>\n",
       "      <th>State of Charge (End %)</th>\n",
       "      <th>Distance Driven (since last charge) (km)</th>\n",
       "      <th>Temperature (°C)</th>\n",
       "      <th>Vehicle Age (years)</th>\n",
       "      <th>Charger Type</th>\n",
       "      <th>User Type</th>\n",
       "    </tr>\n",
       "  </thead>\n",
       "  <tbody>\n",
       "    <tr>\n",
       "      <th>0</th>\n",
       "      <td>User_1</td>\n",
       "      <td>BMW i3</td>\n",
       "      <td>108.463007</td>\n",
       "      <td>Station_391</td>\n",
       "      <td>Houston</td>\n",
       "      <td>2024-01-01 00:00:00</td>\n",
       "      <td>2024-01-01 00:39:00</td>\n",
       "      <td>60.712346</td>\n",
       "      <td>0.591363</td>\n",
       "      <td>36.389181</td>\n",
       "      <td>13.087717</td>\n",
       "      <td>Evening</td>\n",
       "      <td>Tuesday</td>\n",
       "      <td>29.371576</td>\n",
       "      <td>86.119962</td>\n",
       "      <td>293.602111</td>\n",
       "      <td>27.947953</td>\n",
       "      <td>2.0</td>\n",
       "      <td>DC Fast Charger</td>\n",
       "      <td>Commuter</td>\n",
       "    </tr>\n",
       "    <tr>\n",
       "      <th>1</th>\n",
       "      <td>User_2</td>\n",
       "      <td>Hyundai Kona</td>\n",
       "      <td>100.000000</td>\n",
       "      <td>Station_428</td>\n",
       "      <td>San Francisco</td>\n",
       "      <td>2024-01-01 01:00:00</td>\n",
       "      <td>2024-01-01 03:01:00</td>\n",
       "      <td>12.339275</td>\n",
       "      <td>3.133652</td>\n",
       "      <td>30.677735</td>\n",
       "      <td>21.128448</td>\n",
       "      <td>Morning</td>\n",
       "      <td>Monday</td>\n",
       "      <td>10.115778</td>\n",
       "      <td>84.664344</td>\n",
       "      <td>112.112804</td>\n",
       "      <td>14.311026</td>\n",
       "      <td>3.0</td>\n",
       "      <td>Level 1</td>\n",
       "      <td>Casual Driver</td>\n",
       "    </tr>\n",
       "    <tr>\n",
       "      <th>2</th>\n",
       "      <td>User_3</td>\n",
       "      <td>Chevy Bolt</td>\n",
       "      <td>75.000000</td>\n",
       "      <td>Station_181</td>\n",
       "      <td>San Francisco</td>\n",
       "      <td>2024-01-01 02:00:00</td>\n",
       "      <td>2024-01-01 04:48:00</td>\n",
       "      <td>19.128876</td>\n",
       "      <td>2.452653</td>\n",
       "      <td>27.513593</td>\n",
       "      <td>35.667270</td>\n",
       "      <td>Morning</td>\n",
       "      <td>Thursday</td>\n",
       "      <td>6.854604</td>\n",
       "      <td>69.917615</td>\n",
       "      <td>71.799253</td>\n",
       "      <td>21.002002</td>\n",
       "      <td>2.0</td>\n",
       "      <td>Level 2</td>\n",
       "      <td>Commuter</td>\n",
       "    </tr>\n",
       "    <tr>\n",
       "      <th>3</th>\n",
       "      <td>User_4</td>\n",
       "      <td>Hyundai Kona</td>\n",
       "      <td>50.000000</td>\n",
       "      <td>Station_327</td>\n",
       "      <td>Houston</td>\n",
       "      <td>2024-01-01 03:00:00</td>\n",
       "      <td>2024-01-01 06:42:00</td>\n",
       "      <td>79.457824</td>\n",
       "      <td>1.266431</td>\n",
       "      <td>32.882870</td>\n",
       "      <td>13.036239</td>\n",
       "      <td>Evening</td>\n",
       "      <td>Saturday</td>\n",
       "      <td>83.120003</td>\n",
       "      <td>99.624328</td>\n",
       "      <td>199.577785</td>\n",
       "      <td>38.316313</td>\n",
       "      <td>1.0</td>\n",
       "      <td>Level 1</td>\n",
       "      <td>Long-Distance Traveler</td>\n",
       "    </tr>\n",
       "    <tr>\n",
       "      <th>4</th>\n",
       "      <td>User_5</td>\n",
       "      <td>Hyundai Kona</td>\n",
       "      <td>50.000000</td>\n",
       "      <td>Station_108</td>\n",
       "      <td>Los Angeles</td>\n",
       "      <td>2024-01-01 04:00:00</td>\n",
       "      <td>2024-01-01 05:46:00</td>\n",
       "      <td>19.629104</td>\n",
       "      <td>2.019765</td>\n",
       "      <td>10.215712</td>\n",
       "      <td>10.161471</td>\n",
       "      <td>Morning</td>\n",
       "      <td>Saturday</td>\n",
       "      <td>54.258950</td>\n",
       "      <td>63.743786</td>\n",
       "      <td>203.661847</td>\n",
       "      <td>-7.834199</td>\n",
       "      <td>1.0</td>\n",
       "      <td>Level 1</td>\n",
       "      <td>Long-Distance Traveler</td>\n",
       "    </tr>\n",
       "  </tbody>\n",
       "</table>\n",
       "</div>"
      ],
      "text/plain": [
       "  User ID Vehicle Model  Battery Capacity (kWh) Charging Station ID  \\\n",
       "0  User_1        BMW i3              108.463007         Station_391   \n",
       "1  User_2  Hyundai Kona              100.000000         Station_428   \n",
       "2  User_3    Chevy Bolt               75.000000         Station_181   \n",
       "3  User_4  Hyundai Kona               50.000000         Station_327   \n",
       "4  User_5  Hyundai Kona               50.000000         Station_108   \n",
       "\n",
       "  Charging Station Location  Charging Start Time    Charging End Time  \\\n",
       "0                   Houston  2024-01-01 00:00:00  2024-01-01 00:39:00   \n",
       "1             San Francisco  2024-01-01 01:00:00  2024-01-01 03:01:00   \n",
       "2             San Francisco  2024-01-01 02:00:00  2024-01-01 04:48:00   \n",
       "3                   Houston  2024-01-01 03:00:00  2024-01-01 06:42:00   \n",
       "4               Los Angeles  2024-01-01 04:00:00  2024-01-01 05:46:00   \n",
       "\n",
       "   Energy Consumed (kWh)  Charging Duration (hours)  Charging Rate (kW)  \\\n",
       "0              60.712346                   0.591363           36.389181   \n",
       "1              12.339275                   3.133652           30.677735   \n",
       "2              19.128876                   2.452653           27.513593   \n",
       "3              79.457824                   1.266431           32.882870   \n",
       "4              19.629104                   2.019765           10.215712   \n",
       "\n",
       "   Charging Cost (USD) Time of Day Day of Week  State of Charge (Start %)  \\\n",
       "0            13.087717     Evening     Tuesday                  29.371576   \n",
       "1            21.128448     Morning      Monday                  10.115778   \n",
       "2            35.667270     Morning    Thursday                   6.854604   \n",
       "3            13.036239     Evening    Saturday                  83.120003   \n",
       "4            10.161471     Morning    Saturday                  54.258950   \n",
       "\n",
       "   State of Charge (End %)  Distance Driven (since last charge) (km)  \\\n",
       "0                86.119962                                293.602111   \n",
       "1                84.664344                                112.112804   \n",
       "2                69.917615                                 71.799253   \n",
       "3                99.624328                                199.577785   \n",
       "4                63.743786                                203.661847   \n",
       "\n",
       "   Temperature (°C)  Vehicle Age (years)     Charger Type  \\\n",
       "0         27.947953                  2.0  DC Fast Charger   \n",
       "1         14.311026                  3.0          Level 1   \n",
       "2         21.002002                  2.0          Level 2   \n",
       "3         38.316313                  1.0          Level 1   \n",
       "4         -7.834199                  1.0          Level 1   \n",
       "\n",
       "                User Type  \n",
       "0                Commuter  \n",
       "1           Casual Driver  \n",
       "2                Commuter  \n",
       "3  Long-Distance Traveler  \n",
       "4  Long-Distance Traveler  "
      ]
     },
     "execution_count": 3,
     "metadata": {},
     "output_type": "execute_result"
    }
   ],
   "source": [
    "df = pd.read_csv('./ev_charging_patterns.csv')\n",
    "df.head()"
   ]
  },
  {
   "cell_type": "markdown",
   "id": "c1293863-dae2-423c-9c8b-5713789f0356",
   "metadata": {},
   "source": [
    "## Check for and handle missing data\n",
    "We will check for missing values in the dataset, drop any rows with null values, and verify the updated shape of the DataFrame.\n"
   ]
  },
  {
   "cell_type": "code",
   "execution_count": 21,
   "id": "0b6a8c65-c37d-447b-8c10-93b374277508",
   "metadata": {},
   "outputs": [
    {
     "data": {
      "text/plain": [
       "User ID                                      0\n",
       "Vehicle Model                                0\n",
       "Battery Capacity (kWh)                       0\n",
       "Charging Station ID                          0\n",
       "Charging Station Location                    0\n",
       "Charging Start Time                          0\n",
       "Charging End Time                            0\n",
       "Energy Consumed (kWh)                       66\n",
       "Charging Duration (hours)                    0\n",
       "Charging Rate (kW)                          66\n",
       "Charging Cost (USD)                          0\n",
       "Time of Day                                  0\n",
       "Day of Week                                  0\n",
       "State of Charge (Start %)                    0\n",
       "State of Charge (End %)                      0\n",
       "Distance Driven (since last charge) (km)    66\n",
       "Temperature (°C)                             0\n",
       "Vehicle Age (years)                          0\n",
       "Charger Type                                 0\n",
       "User Type                                    0\n",
       "dtype: int64"
      ]
     },
     "execution_count": 21,
     "metadata": {},
     "output_type": "execute_result"
    }
   ],
   "source": [
    "# Checking and dropping all nulls\n",
    "df.isnull().sum()"
   ]
  },
  {
   "cell_type": "code",
   "execution_count": 22,
   "id": "b1c61c9c-1a22-4084-b5bb-b0b2a232e266",
   "metadata": {},
   "outputs": [],
   "source": [
    "df.dropna(inplace = True)"
   ]
  },
  {
   "cell_type": "code",
   "execution_count": 23,
   "id": "97adcd35-ea8e-4342-8afc-d3f0f1444ee9",
   "metadata": {},
   "outputs": [
    {
     "data": {
      "text/plain": [
       "(1131, 20)"
      ]
     },
     "execution_count": 23,
     "metadata": {},
     "output_type": "execute_result"
    }
   ],
   "source": [
    "df.shape"
   ]
  },
  {
   "cell_type": "code",
   "execution_count": 24,
   "id": "134c997a-4fdf-4bd9-b952-5f7819220c9e",
   "metadata": {},
   "outputs": [
    {
     "data": {
      "text/plain": [
       "np.int64(0)"
      ]
     },
     "execution_count": 24,
     "metadata": {},
     "output_type": "execute_result"
    }
   ],
   "source": [
    "df.duplicated().sum()"
   ]
  },
  {
   "cell_type": "code",
   "execution_count": 25,
   "id": "7a69fe6b-d87b-4338-8d32-62145b6c517b",
   "metadata": {},
   "outputs": [
    {
     "data": {
      "text/plain": [
       "Index(['User ID', 'Vehicle Model', 'Battery Capacity (kWh)',\n",
       "       'Charging Station ID', 'Charging Station Location',\n",
       "       'Charging Start Time', 'Charging End Time', 'Energy Consumed (kWh)',\n",
       "       'Charging Duration (hours)', 'Charging Rate (kW)',\n",
       "       'Charging Cost (USD)', 'Time of Day', 'Day of Week',\n",
       "       'State of Charge (Start %)', 'State of Charge (End %)',\n",
       "       'Distance Driven (since last charge) (km)', 'Temperature (°C)',\n",
       "       'Vehicle Age (years)', 'Charger Type', 'User Type'],\n",
       "      dtype='object')"
      ]
     },
     "execution_count": 25,
     "metadata": {},
     "output_type": "execute_result"
    }
   ],
   "source": [
    "df.columns"
   ]
  },
  {
   "cell_type": "markdown",
   "id": "17138855-74c4-4b19-9940-9ddb08e7ad04",
   "metadata": {},
   "source": [
    "## Exploring Peak Charging Hours\n",
    "We'll extract the hour from the charging start and end times to determine the busiest hours for charging.\n"
   ]
  },
  {
   "cell_type": "markdown",
   "id": "814ab56e-1002-4d84-b30c-f46425b32e80",
   "metadata": {},
   "source": [
    "### Data Preparation for Peak Hours\n",
    "We will convert the start and end times to a datetime format, extract the hour, and categorize it into defined time bins (e.g., Midnight-4am, 4am-8am, etc.)."
   ]
  },
  {
   "cell_type": "code",
   "execution_count": 26,
   "id": "1014028e-c9ef-4e2a-b34c-350f0196f8a4",
   "metadata": {},
   "outputs": [
    {
     "data": {
      "text/html": [
       "<div>\n",
       "<style scoped>\n",
       "    .dataframe tbody tr th:only-of-type {\n",
       "        vertical-align: middle;\n",
       "    }\n",
       "\n",
       "    .dataframe tbody tr th {\n",
       "        vertical-align: top;\n",
       "    }\n",
       "\n",
       "    .dataframe thead th {\n",
       "        text-align: right;\n",
       "    }\n",
       "</style>\n",
       "<table border=\"1\" class=\"dataframe\">\n",
       "  <thead>\n",
       "    <tr style=\"text-align: right;\">\n",
       "      <th></th>\n",
       "      <th>Charging Start Time</th>\n",
       "      <th>Charging End Time</th>\n",
       "    </tr>\n",
       "  </thead>\n",
       "  <tbody>\n",
       "    <tr>\n",
       "      <th>0</th>\n",
       "      <td>2024-01-01 00:00:00</td>\n",
       "      <td>2024-01-01 00:39:00</td>\n",
       "    </tr>\n",
       "    <tr>\n",
       "      <th>1</th>\n",
       "      <td>2024-01-01 01:00:00</td>\n",
       "      <td>2024-01-01 03:01:00</td>\n",
       "    </tr>\n",
       "    <tr>\n",
       "      <th>2</th>\n",
       "      <td>2024-01-01 02:00:00</td>\n",
       "      <td>2024-01-01 04:48:00</td>\n",
       "    </tr>\n",
       "    <tr>\n",
       "      <th>3</th>\n",
       "      <td>2024-01-01 03:00:00</td>\n",
       "      <td>2024-01-01 06:42:00</td>\n",
       "    </tr>\n",
       "    <tr>\n",
       "      <th>4</th>\n",
       "      <td>2024-01-01 04:00:00</td>\n",
       "      <td>2024-01-01 05:46:00</td>\n",
       "    </tr>\n",
       "    <tr>\n",
       "      <th>...</th>\n",
       "      <td>...</td>\n",
       "      <td>...</td>\n",
       "    </tr>\n",
       "    <tr>\n",
       "      <th>1315</th>\n",
       "      <td>2024-02-24 19:00:00</td>\n",
       "      <td>2024-02-24 20:30:00</td>\n",
       "    </tr>\n",
       "    <tr>\n",
       "      <th>1316</th>\n",
       "      <td>2024-02-24 20:00:00</td>\n",
       "      <td>2024-02-24 20:44:00</td>\n",
       "    </tr>\n",
       "    <tr>\n",
       "      <th>1317</th>\n",
       "      <td>2024-02-24 21:00:00</td>\n",
       "      <td>2024-02-24 23:03:00</td>\n",
       "    </tr>\n",
       "    <tr>\n",
       "      <th>1318</th>\n",
       "      <td>2024-02-24 22:00:00</td>\n",
       "      <td>2024-02-24 23:20:00</td>\n",
       "    </tr>\n",
       "    <tr>\n",
       "      <th>1319</th>\n",
       "      <td>2024-02-24 23:00:00</td>\n",
       "      <td>2024-02-24 23:56:00</td>\n",
       "    </tr>\n",
       "  </tbody>\n",
       "</table>\n",
       "<p>1131 rows × 2 columns</p>\n",
       "</div>"
      ],
      "text/plain": [
       "      Charging Start Time    Charging End Time\n",
       "0     2024-01-01 00:00:00  2024-01-01 00:39:00\n",
       "1     2024-01-01 01:00:00  2024-01-01 03:01:00\n",
       "2     2024-01-01 02:00:00  2024-01-01 04:48:00\n",
       "3     2024-01-01 03:00:00  2024-01-01 06:42:00\n",
       "4     2024-01-01 04:00:00  2024-01-01 05:46:00\n",
       "...                   ...                  ...\n",
       "1315  2024-02-24 19:00:00  2024-02-24 20:30:00\n",
       "1316  2024-02-24 20:00:00  2024-02-24 20:44:00\n",
       "1317  2024-02-24 21:00:00  2024-02-24 23:03:00\n",
       "1318  2024-02-24 22:00:00  2024-02-24 23:20:00\n",
       "1319  2024-02-24 23:00:00  2024-02-24 23:56:00\n",
       "\n",
       "[1131 rows x 2 columns]"
      ]
     },
     "execution_count": 26,
     "metadata": {},
     "output_type": "execute_result"
    }
   ],
   "source": [
    "# What are the peak charging hours?\n",
    "\n",
    "df[['Charging Start Time', 'Charging End Time']]"
   ]
  },
  {
   "cell_type": "code",
   "execution_count": 27,
   "id": "619c121a-fa5e-40ce-9130-f5ced790ac8a",
   "metadata": {},
   "outputs": [
    {
     "data": {
      "text/plain": [
       "User ID                                      object\n",
       "Vehicle Model                                object\n",
       "Battery Capacity (kWh)                      float64\n",
       "Charging Station ID                          object\n",
       "Charging Station Location                    object\n",
       "Charging Start Time                          object\n",
       "Charging End Time                            object\n",
       "Energy Consumed (kWh)                       float64\n",
       "Charging Duration (hours)                   float64\n",
       "Charging Rate (kW)                          float64\n",
       "Charging Cost (USD)                         float64\n",
       "Time of Day                                  object\n",
       "Day of Week                                  object\n",
       "State of Charge (Start %)                   float64\n",
       "State of Charge (End %)                     float64\n",
       "Distance Driven (since last charge) (km)    float64\n",
       "Temperature (°C)                            float64\n",
       "Vehicle Age (years)                         float64\n",
       "Charger Type                                 object\n",
       "User Type                                    object\n",
       "dtype: object"
      ]
     },
     "execution_count": 27,
     "metadata": {},
     "output_type": "execute_result"
    }
   ],
   "source": [
    "# CHecking data type of start time and end time to strip hour from it\n",
    "df.dtypes"
   ]
  },
  {
   "cell_type": "code",
   "execution_count": 28,
   "id": "5e200ab7-b5e8-45f8-837a-eca1f00a31ab",
   "metadata": {},
   "outputs": [],
   "source": [
    "df['Charging Start Time'] = pd.to_datetime(df['Charging Start Time'])\n",
    "df['Start Hour'] = df['Charging Start Time'].dt.hour"
   ]
  },
  {
   "cell_type": "code",
   "execution_count": 29,
   "id": "f1dae174-6e8c-4218-88b8-07e668be13e8",
   "metadata": {},
   "outputs": [
    {
     "data": {
      "text/plain": [
       "count    1131.000000\n",
       "mean       11.573828\n",
       "std         6.880946\n",
       "min         0.000000\n",
       "25%         6.000000\n",
       "50%        12.000000\n",
       "75%        18.000000\n",
       "max        23.000000\n",
       "Name: Start Hour, dtype: float64"
      ]
     },
     "execution_count": 29,
     "metadata": {},
     "output_type": "execute_result"
    }
   ],
   "source": [
    "df['Start Hour'].describe()"
   ]
  },
  {
   "cell_type": "code",
   "execution_count": 30,
   "id": "7ba01618-99bb-4e68-b089-8e6b83698a07",
   "metadata": {},
   "outputs": [],
   "source": [
    "df['Charging End Time'] = pd.to_datetime(df['Charging End Time'])\n",
    "df['End Hour'] = df['Charging Start Time'].dt.hour"
   ]
  },
  {
   "cell_type": "code",
   "execution_count": 31,
   "id": "8f794463-be4b-44f7-ab45-6e41ab46f57c",
   "metadata": {},
   "outputs": [
    {
     "data": {
      "text/plain": [
       "count    1131.000000\n",
       "mean       11.573828\n",
       "std         6.880946\n",
       "min         0.000000\n",
       "25%         6.000000\n",
       "50%        12.000000\n",
       "75%        18.000000\n",
       "max        23.000000\n",
       "Name: End Hour, dtype: float64"
      ]
     },
     "execution_count": 31,
     "metadata": {},
     "output_type": "execute_result"
    }
   ],
   "source": [
    "df['End Hour'].describe()"
   ]
  },
  {
   "cell_type": "code",
   "execution_count": 32,
   "id": "5fba6902-a6b4-4f86-9f39-97c36ef318c2",
   "metadata": {},
   "outputs": [],
   "source": [
    "# Need to group hours within 4 hour time frames\n",
    "\n",
    "bins = [0, 4, 8, 12, 16, 20, 24]\n",
    "labels = ['Midnight - 4', '4am-8am', '8am-12pm', '12pm-4pm', '4pm-8pm', '8pm - 12am']"
   ]
  },
  {
   "cell_type": "code",
   "execution_count": 33,
   "id": "73328c05-9bec-418d-bf2c-2eabcefc2eaa",
   "metadata": {},
   "outputs": [],
   "source": [
    "# Sorting start and end hours into our bins\n",
    "\n",
    "df['Start Hour Range'] = pd.cut(df['Start Hour'], bins=bins, labels=labels, right = False)\n",
    "df['End Hour Range'] = pd.cut(df['End Hour'], bins=bins, labels=labels, right = False)"
   ]
  },
  {
   "cell_type": "code",
   "execution_count": 34,
   "id": "5f6a5764-56e3-4e58-a0a9-b8a083690b51",
   "metadata": {},
   "outputs": [],
   "source": [
    "# Counting number of values within each bin\n",
    "\n",
    "start_hour_counts = df['Start Hour Range'].value_counts().sort_index(ascending=False)\n",
    "end_hour_counts = df['End Hour Range'].value_counts().sort_index()"
   ]
  },
  {
   "cell_type": "markdown",
   "id": "b8f75a45-e8ec-4036-8022-86ba5f87dff7",
   "metadata": {},
   "source": [
    "## Visualizing Peak Charging Hours"
   ]
  },
  {
   "cell_type": "markdown",
   "id": "07c7e549-8ba1-4107-ab99-61c0e3bc1f68",
   "metadata": {},
   "source": [
    "### What are the peak charging hours?\n",
    "The busiest charging hours seem to occur between 4pm and 8pm, which may indicate that drivers prefer to charge after work hours."
   ]
  },
  {
   "cell_type": "code",
   "execution_count": 35,
   "id": "3f94de00-76a1-4c77-86ad-4753841aab02",
   "metadata": {},
   "outputs": [
    {
     "name": "stderr",
     "output_type": "stream",
     "text": [
      "C:\\Users\\dorgh\\AppData\\Local\\Temp\\ipykernel_23616\\3600072847.py:3: FutureWarning: The default of observed=False is deprecated and will be changed to True in a future version of pandas. Pass observed=False to retain current behavior or observed=True to adopt the future default and silence this warning.\n",
      "  start_hour_counts = df.groupby('Start Hour Range').size()\n"
     ]
    },
    {
     "data": {
      "text/plain": [
       "Start Hour Range\n",
       "4pm-8pm         194\n",
       "8am-12pm        190\n",
       "8pm - 12am      188\n",
       "Midnight - 4    187\n",
       "12pm-4pm        187\n",
       "4am-8am         185\n",
       "dtype: int64"
      ]
     },
     "execution_count": 35,
     "metadata": {},
     "output_type": "execute_result"
    }
   ],
   "source": [
    "# Grouping them and sorting them from highest to lowest\n",
    "\n",
    "start_hour_counts = df.groupby('Start Hour Range').size()\n",
    "start_hour_counts = start_hour_counts.sort_values(ascending=False)\n",
    "start_hour_counts"
   ]
  },
  {
   "cell_type": "code",
   "execution_count": 36,
   "id": "78d624fc-75f4-43b0-864b-e48247806273",
   "metadata": {},
   "outputs": [
    {
     "name": "stderr",
     "output_type": "stream",
     "text": [
      "C:\\Users\\dorgh\\AppData\\Local\\Temp\\ipykernel_23616\\1830672162.py:1: FutureWarning: The default of observed=False is deprecated and will be changed to True in a future version of pandas. Pass observed=False to retain current behavior or observed=True to adopt the future default and silence this warning.\n",
      "  end_hour_counts = df.groupby('End Hour Range').size()\n"
     ]
    },
    {
     "data": {
      "text/plain": [
       "End Hour Range\n",
       "4pm-8pm         194\n",
       "8am-12pm        190\n",
       "8pm - 12am      188\n",
       "Midnight - 4    187\n",
       "12pm-4pm        187\n",
       "4am-8am         185\n",
       "dtype: int64"
      ]
     },
     "execution_count": 36,
     "metadata": {},
     "output_type": "execute_result"
    }
   ],
   "source": [
    "end_hour_counts = df.groupby('End Hour Range').size()\n",
    "end_hour_counts = end_hour_counts.sort_values(ascending=False)\n",
    "end_hour_counts"
   ]
  },
  {
   "cell_type": "code",
   "execution_count": 37,
   "id": "0a556778-5531-461e-9563-daa8e506305b",
   "metadata": {},
   "outputs": [
    {
     "data": {
      "text/plain": [
       "Text(0.5, 1.0, 'Charging Sessions by Hour Range')"
      ]
     },
     "execution_count": 37,
     "metadata": {},
     "output_type": "execute_result"
    },
    {
     "data": {
      "image/png": "[encoded data removed]",
      "text/plain": [
       "<Figure size 640x480 with 1 Axes>"
      ]
     },
     "metadata": {},
     "output_type": "display_data"
    }
   ],
   "source": [
    "# Since the start and end times are all the same indicating charging is less than an hour, we will graph it with only the start hour\n",
    "# As we can see from the chart, 4pm - 8pm is the peak charging hours\n",
    "# There was a time of day column I missed which could have givne me this info \n",
    "\n",
    "start_hour_counts.plot(kind = 'line', color = 'red')\n",
    "\n",
    "plt.xlabel('Start Hour Range')\n",
    "plt.ylabel('Count of Charges')\n",
    "plt.title('Charging Sessions by Hour Range')"
   ]
  },
  {
   "cell_type": "code",
   "execution_count": 38,
   "id": "9c8e7319-e3cf-49c0-b284-40a220d366af",
   "metadata": {},
   "outputs": [],
   "source": [
    "# Is there a seasonal pattern to charging activity?\n",
    "# Make 4 charts summer, fall, winter, spring\n",
    "\n",
    "df['Month'] = df['Charging Start Time'].dt.month\n",
    "\n",
    "season_bins = [0, 3, 6, 9, 12]\n",
    "season_labels = ['winter', 'spring', 'summer', 'fall']\n",
    "\n",
    "df['Season'] = pd.cut(df['Month'], bins=season_bins, labels=season_labels, right = False)\n"
   ]
  },
  {
   "cell_type": "code",
   "execution_count": 39,
   "id": "10a1c172-7249-44bd-91fe-5577216ab3bd",
   "metadata": {},
   "outputs": [
    {
     "name": "stderr",
     "output_type": "stream",
     "text": [
      "C:\\Users\\dorgh\\AppData\\Local\\Temp\\ipykernel_23616\\2495369888.py:1: FutureWarning: The default of observed=False is deprecated and will be changed to True in a future version of pandas. Pass observed=False to retain current behavior or observed=True to adopt the future default and silence this warning.\n",
      "  season_counts_grouped = df.groupby('Season').size()\n"
     ]
    },
    {
     "data": {
      "text/plain": [
       "Season\n",
       "winter    1131\n",
       "spring       0\n",
       "summer       0\n",
       "fall         0\n",
       "dtype: int64"
      ]
     },
     "execution_count": 39,
     "metadata": {},
     "output_type": "execute_result"
    }
   ],
   "source": [
    "season_counts_grouped = df.groupby('Season').size()\n",
    "season_counts_grouped = season_counts_grouped.sort_values(ascending = False)\n",
    "season_counts_grouped"
   ]
  },
  {
   "cell_type": "code",
   "execution_count": 40,
   "id": "46262ad3-a59b-461a-95dd-15e6cb81f326",
   "metadata": {},
   "outputs": [
    {
     "data": {
      "text/plain": [
       "array([1, 2], dtype=int32)"
      ]
     },
     "execution_count": 40,
     "metadata": {},
     "output_type": "execute_result"
    }
   ],
   "source": [
    "# Looks like the data only has data for january and february\n",
    "\n",
    "df['Month'].unique()"
   ]
  },
  {
   "cell_type": "code",
   "execution_count": 41,
   "id": "56d1c18d-e588-448b-81be-5202e5b6c553",
   "metadata": {},
   "outputs": [
    {
     "data": {
      "text/plain": [
       "np.float64(22.488351054748133)"
      ]
     },
     "execution_count": 41,
     "metadata": {},
     "output_type": "execute_result"
    }
   ],
   "source": [
    "# What is the average charging cost per user? \n",
    "# The average cost per user is $22.5 (USD)\n",
    "df['Charging Cost (USD)'].mean()"
   ]
  },
  {
   "cell_type": "markdown",
   "id": "c1f822d0-cb17-4cd7-8688-35a23be34e46",
   "metadata": {},
   "source": [
    "## Analyzing the Relationship Between Charging Duration and Cost\n",
    "Scatter Plot for Charging Duration vs. Cost"
   ]
  },
  {
   "cell_type": "code",
   "execution_count": 42,
   "id": "648a8687-bb8d-4c1e-9371-7984a8223b62",
   "metadata": {},
   "outputs": [
    {
     "data": {
      "text/html": [
       "<div>\n",
       "<style scoped>\n",
       "    .dataframe tbody tr th:only-of-type {\n",
       "        vertical-align: middle;\n",
       "    }\n",
       "\n",
       "    .dataframe tbody tr th {\n",
       "        vertical-align: top;\n",
       "    }\n",
       "\n",
       "    .dataframe thead th {\n",
       "        text-align: right;\n",
       "    }\n",
       "</style>\n",
       "<table border=\"1\" class=\"dataframe\">\n",
       "  <thead>\n",
       "    <tr style=\"text-align: right;\">\n",
       "      <th></th>\n",
       "      <th>Charging Duration (hours)</th>\n",
       "      <th>Charging Cost (USD)</th>\n",
       "    </tr>\n",
       "  </thead>\n",
       "  <tbody>\n",
       "    <tr>\n",
       "      <th>0</th>\n",
       "      <td>0.591363</td>\n",
       "      <td>13.087717</td>\n",
       "    </tr>\n",
       "    <tr>\n",
       "      <th>1</th>\n",
       "      <td>3.133652</td>\n",
       "      <td>21.128448</td>\n",
       "    </tr>\n",
       "    <tr>\n",
       "      <th>2</th>\n",
       "      <td>2.452653</td>\n",
       "      <td>35.667270</td>\n",
       "    </tr>\n",
       "    <tr>\n",
       "      <th>3</th>\n",
       "      <td>1.266431</td>\n",
       "      <td>13.036239</td>\n",
       "    </tr>\n",
       "    <tr>\n",
       "      <th>4</th>\n",
       "      <td>2.019765</td>\n",
       "      <td>10.161471</td>\n",
       "    </tr>\n",
       "  </tbody>\n",
       "</table>\n",
       "</div>"
      ],
      "text/plain": [
       "   Charging Duration (hours)  Charging Cost (USD)\n",
       "0                   0.591363            13.087717\n",
       "1                   3.133652            21.128448\n",
       "2                   2.452653            35.667270\n",
       "3                   1.266431            13.036239\n",
       "4                   2.019765            10.161471"
      ]
     },
     "execution_count": 42,
     "metadata": {},
     "output_type": "execute_result"
    }
   ],
   "source": [
    "# Is there a relationship between charging duration and cost? \n",
    "\n",
    "df[['Charging Duration (hours)', 'Charging Cost (USD)']].head()\n"
   ]
  },
  {
   "cell_type": "code",
   "execution_count": 43,
   "id": "44c0a52f-3c1f-463b-b5b2-f62d14d4f773",
   "metadata": {},
   "outputs": [
    {
     "data": {
      "text/plain": [
       "Text(0.5, 1.0, 'Charging Duration vs Charging Cost')"
      ]
     },
     "execution_count": 43,
     "metadata": {},
     "output_type": "execute_result"
    },
    {
     "data": {
      "image/png": "[encoded data removed]",
      "text/plain": [
       "<Figure size 640x480 with 1 Axes>"
      ]
     },
     "metadata": {},
     "output_type": "display_data"
    }
   ],
   "source": [
    "# Not too strong of a correlation or any at all as the scatter plot shows plots in a box ranging from 1 - 4 hours and $10 - $40 with some outliers\n",
    "\n",
    "plt.scatter(df['Charging Duration (hours)'], df['Charging Cost (USD)'], color = 'red', s=15)\n",
    "\n",
    "plt.xlabel('Charging Duration (hours)')\n",
    "plt.ylabel('Charging Cost (USD)')\n",
    "plt.title('Charging Duration vs Charging Cost')"
   ]
  },
  {
   "cell_type": "markdown",
   "id": "bf61a4fc-2380-4a12-b8bc-41c8f9f4d7e1",
   "metadata": {},
   "source": [
    "## Analyzing Charging Rates by Charger Type\n",
    "We will group the data by charger type and calculate the average charging rate for each type of charger."
   ]
  },
  {
   "cell_type": "code",
   "execution_count": 44,
   "id": "87161fe8-ea75-46ad-841d-b2611b7741c2",
   "metadata": {},
   "outputs": [
    {
     "data": {
      "text/html": [
       "<div>\n",
       "<style scoped>\n",
       "    .dataframe tbody tr th:only-of-type {\n",
       "        vertical-align: middle;\n",
       "    }\n",
       "\n",
       "    .dataframe tbody tr th {\n",
       "        vertical-align: top;\n",
       "    }\n",
       "\n",
       "    .dataframe thead th {\n",
       "        text-align: right;\n",
       "    }\n",
       "</style>\n",
       "<table border=\"1\" class=\"dataframe\">\n",
       "  <thead>\n",
       "    <tr style=\"text-align: right;\">\n",
       "      <th></th>\n",
       "      <th>Charger Type</th>\n",
       "      <th>Charging Rate (kW)</th>\n",
       "    </tr>\n",
       "  </thead>\n",
       "  <tbody>\n",
       "    <tr>\n",
       "      <th>0</th>\n",
       "      <td>DC Fast Charger</td>\n",
       "      <td>36.389181</td>\n",
       "    </tr>\n",
       "    <tr>\n",
       "      <th>1</th>\n",
       "      <td>Level 1</td>\n",
       "      <td>30.677735</td>\n",
       "    </tr>\n",
       "    <tr>\n",
       "      <th>2</th>\n",
       "      <td>Level 2</td>\n",
       "      <td>27.513593</td>\n",
       "    </tr>\n",
       "    <tr>\n",
       "      <th>3</th>\n",
       "      <td>Level 1</td>\n",
       "      <td>32.882870</td>\n",
       "    </tr>\n",
       "    <tr>\n",
       "      <th>4</th>\n",
       "      <td>Level 1</td>\n",
       "      <td>10.215712</td>\n",
       "    </tr>\n",
       "    <tr>\n",
       "      <th>...</th>\n",
       "      <td>...</td>\n",
       "      <td>...</td>\n",
       "    </tr>\n",
       "    <tr>\n",
       "      <th>1315</th>\n",
       "      <td>DC Fast Charger</td>\n",
       "      <td>5.895475</td>\n",
       "    </tr>\n",
       "    <tr>\n",
       "      <th>1316</th>\n",
       "      <td>Level 2</td>\n",
       "      <td>18.388012</td>\n",
       "    </tr>\n",
       "    <tr>\n",
       "      <th>1317</th>\n",
       "      <td>DC Fast Charger</td>\n",
       "      <td>45.482066</td>\n",
       "    </tr>\n",
       "    <tr>\n",
       "      <th>1318</th>\n",
       "      <td>Level 2</td>\n",
       "      <td>38.148183</td>\n",
       "    </tr>\n",
       "    <tr>\n",
       "      <th>1319</th>\n",
       "      <td>DC Fast Charger</td>\n",
       "      <td>33.704226</td>\n",
       "    </tr>\n",
       "  </tbody>\n",
       "</table>\n",
       "<p>1131 rows × 2 columns</p>\n",
       "</div>"
      ],
      "text/plain": [
       "         Charger Type  Charging Rate (kW)\n",
       "0     DC Fast Charger           36.389181\n",
       "1             Level 1           30.677735\n",
       "2             Level 2           27.513593\n",
       "3             Level 1           32.882870\n",
       "4             Level 1           10.215712\n",
       "...               ...                 ...\n",
       "1315  DC Fast Charger            5.895475\n",
       "1316          Level 2           18.388012\n",
       "1317  DC Fast Charger           45.482066\n",
       "1318          Level 2           38.148183\n",
       "1319  DC Fast Charger           33.704226\n",
       "\n",
       "[1131 rows x 2 columns]"
      ]
     },
     "execution_count": 44,
     "metadata": {},
     "output_type": "execute_result"
    }
   ],
   "source": [
    "# How does the charging rate vary between different charger types?\n",
    "\n",
    "df[['Charger Type', 'Charging Rate (kW)']]"
   ]
  },
  {
   "cell_type": "code",
   "execution_count": 45,
   "id": "c4d75128-374c-422f-8e41-5da5d5d52a5c",
   "metadata": {},
   "outputs": [
    {
     "data": {
      "text/html": [
       "<div>\n",
       "<style scoped>\n",
       "    .dataframe tbody tr th:only-of-type {\n",
       "        vertical-align: middle;\n",
       "    }\n",
       "\n",
       "    .dataframe tbody tr th {\n",
       "        vertical-align: top;\n",
       "    }\n",
       "\n",
       "    .dataframe thead th {\n",
       "        text-align: right;\n",
       "    }\n",
       "</style>\n",
       "<table border=\"1\" class=\"dataframe\">\n",
       "  <thead>\n",
       "    <tr style=\"text-align: right;\">\n",
       "      <th></th>\n",
       "      <th>Charger Type</th>\n",
       "      <th>Charging Rate (kW)</th>\n",
       "    </tr>\n",
       "  </thead>\n",
       "  <tbody>\n",
       "    <tr>\n",
       "      <th>0</th>\n",
       "      <td>DC Fast Charger</td>\n",
       "      <td>25.609321</td>\n",
       "    </tr>\n",
       "    <tr>\n",
       "      <th>1</th>\n",
       "      <td>Level 1</td>\n",
       "      <td>26.033100</td>\n",
       "    </tr>\n",
       "    <tr>\n",
       "      <th>2</th>\n",
       "      <td>Level 2</td>\n",
       "      <td>26.402854</td>\n",
       "    </tr>\n",
       "  </tbody>\n",
       "</table>\n",
       "</div>"
      ],
      "text/plain": [
       "      Charger Type  Charging Rate (kW)\n",
       "0  DC Fast Charger           25.609321\n",
       "1          Level 1           26.033100\n",
       "2          Level 2           26.402854"
      ]
     },
     "execution_count": 45,
     "metadata": {},
     "output_type": "execute_result"
    }
   ],
   "source": [
    "# Grouping by the charger type and taking the mean of the charging rate\n",
    "\n",
    "charger_type_rate = df.groupby('Charger Type')['Charging Rate (kW)'].mean().reset_index()\n",
    "charger_type_rate"
   ]
  },
  {
   "cell_type": "code",
   "execution_count": 46,
   "id": "615ef3c8-64df-4074-98a4-ef76203421bd",
   "metadata": {},
   "outputs": [
    {
     "data": {
      "text/html": [
       "<div>\n",
       "<style scoped>\n",
       "    .dataframe tbody tr th:only-of-type {\n",
       "        vertical-align: middle;\n",
       "    }\n",
       "\n",
       "    .dataframe tbody tr th {\n",
       "        vertical-align: top;\n",
       "    }\n",
       "\n",
       "    .dataframe thead th {\n",
       "        text-align: right;\n",
       "    }\n",
       "</style>\n",
       "<table border=\"1\" class=\"dataframe\">\n",
       "  <thead>\n",
       "    <tr style=\"text-align: right;\">\n",
       "      <th></th>\n",
       "      <th>Charger Type</th>\n",
       "      <th>Charging Rate (kW)</th>\n",
       "    </tr>\n",
       "  </thead>\n",
       "  <tbody>\n",
       "    <tr>\n",
       "      <th>2</th>\n",
       "      <td>Level 2</td>\n",
       "      <td>26.402854</td>\n",
       "    </tr>\n",
       "    <tr>\n",
       "      <th>1</th>\n",
       "      <td>Level 1</td>\n",
       "      <td>26.033100</td>\n",
       "    </tr>\n",
       "    <tr>\n",
       "      <th>0</th>\n",
       "      <td>DC Fast Charger</td>\n",
       "      <td>25.609321</td>\n",
       "    </tr>\n",
       "  </tbody>\n",
       "</table>\n",
       "</div>"
      ],
      "text/plain": [
       "      Charger Type  Charging Rate (kW)\n",
       "2          Level 2           26.402854\n",
       "1          Level 1           26.033100\n",
       "0  DC Fast Charger           25.609321"
      ]
     },
     "execution_count": 46,
     "metadata": {},
     "output_type": "execute_result"
    }
   ],
   "source": [
    "# Sorting from highest to lowest charging rate\n",
    "charger_type_rate_sorted = charger_type_rate.sort_values(by='Charging Rate (kW)', ascending=False)\n",
    "charger_type_rate_sorted\n"
   ]
  },
  {
   "cell_type": "markdown",
   "id": "3c654e24-7a72-479e-9c55-3283331946a7",
   "metadata": {},
   "source": [
    "### Plotting the Average Charging Rate by Charger Type\n",
    "We will visualize the average charging rate by charger type using a bar chart to better understand how the charging rates vary across different charger types.\n",
    "\n",
    "### Answer:\n",
    "The average charging rate barely varies between charger types, with Level 2 being the fastest and DC Fast Charger the slowest, which is unexpected as DC Fast Chargers are typically faster.\n"
   ]
  },
  {
   "cell_type": "code",
   "execution_count": 47,
   "id": "2f1fdc72-7955-4955-befa-da2ec49aac81",
   "metadata": {},
   "outputs": [
    {
     "data": {
      "text/plain": [
       "Text(0.5, 1.0, 'Average Charging Rate by Charger Type')"
      ]
     },
     "execution_count": 47,
     "metadata": {},
     "output_type": "execute_result"
    },
    {
     "data": {
      "image/png": "[encoded data removed]",
      "text/plain": [
       "<Figure size 640x480 with 1 Axes>"
      ]
     },
     "metadata": {},
     "output_type": "display_data"
    }
   ],
   "source": [
    "# The charging rate barely varies between charger types, making level 2 the fastest and DC Fast CHarger the slowest which is counterintuitive because it should be the oppisite\n",
    "\n",
    "plt.bar(charger_type_rate_sorted['Charger Type'], charger_type_rate_sorted['Charging Rate (kW)'], color = 'green', width = 0.6)\n",
    "\n",
    "plt.xlabel('Charger Type')\n",
    "plt.ylabel('Average Charging Rate (kW)')\n",
    "plt.title('Average Charging Rate by Charger Type')"
   ]
  },
  {
   "cell_type": "markdown",
   "id": "aa3fddd9-c891-419e-9f0c-0dbf431e4403",
   "metadata": {},
   "source": [
    "## Step 7: Analyzing the State of Charge (SOC) Change\n",
    "Now we will examine how much the state of charge changes from the start to the end of a charging session. This will help us understand how much energy users typically add during a charging session."
   ]
  },
  {
   "cell_type": "code",
   "execution_count": 48,
   "id": "64f2b002-accf-44bd-a0a4-d1309b6d54d8",
   "metadata": {},
   "outputs": [
    {
     "data": {
      "text/html": [
       "<div>\n",
       "<style scoped>\n",
       "    .dataframe tbody tr th:only-of-type {\n",
       "        vertical-align: middle;\n",
       "    }\n",
       "\n",
       "    .dataframe tbody tr th {\n",
       "        vertical-align: top;\n",
       "    }\n",
       "\n",
       "    .dataframe thead th {\n",
       "        text-align: right;\n",
       "    }\n",
       "</style>\n",
       "<table border=\"1\" class=\"dataframe\">\n",
       "  <thead>\n",
       "    <tr style=\"text-align: right;\">\n",
       "      <th></th>\n",
       "      <th>State of Charge (Start %)</th>\n",
       "      <th>State of Charge (End %)</th>\n",
       "    </tr>\n",
       "  </thead>\n",
       "  <tbody>\n",
       "    <tr>\n",
       "      <th>0</th>\n",
       "      <td>29.371576</td>\n",
       "      <td>86.119962</td>\n",
       "    </tr>\n",
       "    <tr>\n",
       "      <th>1</th>\n",
       "      <td>10.115778</td>\n",
       "      <td>84.664344</td>\n",
       "    </tr>\n",
       "    <tr>\n",
       "      <th>2</th>\n",
       "      <td>6.854604</td>\n",
       "      <td>69.917615</td>\n",
       "    </tr>\n",
       "    <tr>\n",
       "      <th>3</th>\n",
       "      <td>83.120003</td>\n",
       "      <td>99.624328</td>\n",
       "    </tr>\n",
       "    <tr>\n",
       "      <th>4</th>\n",
       "      <td>54.258950</td>\n",
       "      <td>63.743786</td>\n",
       "    </tr>\n",
       "  </tbody>\n",
       "</table>\n",
       "</div>"
      ],
      "text/plain": [
       "   State of Charge (Start %)  State of Charge (End %)\n",
       "0                  29.371576                86.119962\n",
       "1                  10.115778                84.664344\n",
       "2                   6.854604                69.917615\n",
       "3                  83.120003                99.624328\n",
       "4                  54.258950                63.743786"
      ]
     },
     "execution_count": 48,
     "metadata": {},
     "output_type": "execute_result"
    }
   ],
   "source": [
    "#How does the state of charge at the start and end of charging vary?\n",
    "\n",
    "df[['State of Charge (Start %)', 'State of Charge (End %)']].head()"
   ]
  },
  {
   "cell_type": "markdown",
   "id": "e9b8742b-532b-4c33-9056-1bdcfb4996ef",
   "metadata": {},
   "source": [
    "### Calculating and Plotting the SoC Change Distribution\n",
    "We will calculate the difference between the start and end SoC for each session, and visualize it using a histogram."
   ]
  },
  {
   "cell_type": "code",
   "execution_count": 49,
   "id": "662ad80e-aeff-471c-ae12-8ef6f5d7bb13",
   "metadata": {},
   "outputs": [
    {
     "data": {
      "text/html": [
       "<div>\n",
       "<style scoped>\n",
       "    .dataframe tbody tr th:only-of-type {\n",
       "        vertical-align: middle;\n",
       "    }\n",
       "\n",
       "    .dataframe tbody tr th {\n",
       "        vertical-align: top;\n",
       "    }\n",
       "\n",
       "    .dataframe thead th {\n",
       "        text-align: right;\n",
       "    }\n",
       "</style>\n",
       "<table border=\"1\" class=\"dataframe\">\n",
       "  <thead>\n",
       "    <tr style=\"text-align: right;\">\n",
       "      <th></th>\n",
       "      <th>SOC Change (%)</th>\n",
       "    </tr>\n",
       "  </thead>\n",
       "  <tbody>\n",
       "    <tr>\n",
       "      <th>0</th>\n",
       "      <td>56.748386</td>\n",
       "    </tr>\n",
       "    <tr>\n",
       "      <th>1</th>\n",
       "      <td>74.548566</td>\n",
       "    </tr>\n",
       "    <tr>\n",
       "      <th>2</th>\n",
       "      <td>63.063011</td>\n",
       "    </tr>\n",
       "    <tr>\n",
       "      <th>3</th>\n",
       "      <td>16.504325</td>\n",
       "    </tr>\n",
       "    <tr>\n",
       "      <th>4</th>\n",
       "      <td>9.484836</td>\n",
       "    </tr>\n",
       "    <tr>\n",
       "      <th>...</th>\n",
       "      <td>...</td>\n",
       "    </tr>\n",
       "    <tr>\n",
       "      <th>1315</th>\n",
       "      <td>44.711850</td>\n",
       "    </tr>\n",
       "    <tr>\n",
       "      <th>1316</th>\n",
       "      <td>61.640087</td>\n",
       "    </tr>\n",
       "    <tr>\n",
       "      <th>1317</th>\n",
       "      <td>6.775798</td>\n",
       "    </tr>\n",
       "    <tr>\n",
       "      <th>1318</th>\n",
       "      <td>-10.261424</td>\n",
       "    </tr>\n",
       "    <tr>\n",
       "      <th>1319</th>\n",
       "      <td>-2.645636</td>\n",
       "    </tr>\n",
       "  </tbody>\n",
       "</table>\n",
       "<p>1131 rows × 1 columns</p>\n",
       "</div>"
      ],
      "text/plain": [
       "      SOC Change (%)\n",
       "0          56.748386\n",
       "1          74.548566\n",
       "2          63.063011\n",
       "3          16.504325\n",
       "4           9.484836\n",
       "...              ...\n",
       "1315       44.711850\n",
       "1316       61.640087\n",
       "1317        6.775798\n",
       "1318      -10.261424\n",
       "1319       -2.645636\n",
       "\n",
       "[1131 rows x 1 columns]"
      ]
     },
     "execution_count": 49,
     "metadata": {},
     "output_type": "execute_result"
    }
   ],
   "source": [
    "df['SOC Change (%)'] = df['State of Charge (End %)'] - df['State of Charge (Start %)']\n",
    "df[['SOC Change (%)']]"
   ]
  },
  {
   "cell_type": "code",
   "execution_count": 50,
   "id": "9d308c6e-3eb5-414f-b8f9-8b3929bde856",
   "metadata": {},
   "outputs": [
    {
     "data": {
      "text/plain": [
       "Text(0, 0.5, 'Number of Charging Sessions')"
      ]
     },
     "execution_count": 50,
     "metadata": {},
     "output_type": "execute_result"
    },
    {
     "data": {
      "image/png": "[encoded data removed]",
      "text/plain": [
       "<Figure size 640x480 with 1 Axes>"
      ]
     },
     "metadata": {},
     "output_type": "display_data"
    }
   ],
   "source": [
    "# The histogram shows that >50% of drivers let their cars charge for approx. 50% before leaving\n",
    "# The peak at 175 sessions is at approx 15-20% SOC change\n",
    "# WIll filter out negative states of changes as that does not apply to this question\n",
    "\n",
    "plt.hist(df['SOC Change (%)'], bins=15, color='blue', edgecolor='black')\n",
    "plt.xlabel('State of Charge Change (%)')\n",
    "plt.ylabel('Number of Charging Sessions')"
   ]
  },
  {
   "cell_type": "markdown",
   "id": "38e51f8d-44e0-4649-a425-af7888559f5c",
   "metadata": {},
   "source": [
    "### Filtering Out Negative SoC Changes"
   ]
  },
  {
   "cell_type": "code",
   "execution_count": 51,
   "id": "a630ba74-59ab-44bf-87c1-eeb3179e18cc",
   "metadata": {},
   "outputs": [
    {
     "data": {
      "text/plain": [
       "Text(0, 0.5, 'Number of Charging Sessions')"
      ]
     },
     "execution_count": 51,
     "metadata": {},
     "output_type": "execute_result"
    },
    {
     "data": {
      "image/png": "[encoded data removed]",
      "text/plain": [
       "<Figure size 640x480 with 1 Axes>"
      ]
     },
     "metadata": {},
     "output_type": "display_data"
    }
   ],
   "source": [
    "df_positive_change = df[df['SOC Change (%)'] >= 0]\n",
    "\n",
    "plt.hist(df_positive_change['SOC Change (%)'], bins=15, color='blue', edgecolor='black')\n",
    "plt.xlabel('State of Charge Change (%)')\n",
    "plt.ylabel('Number of Charging Sessions')"
   ]
  },
  {
   "cell_type": "code",
   "execution_count": 52,
   "id": "e58e7e7c-57c2-41f0-a731-5713e72b7b6a",
   "metadata": {
    "scrolled": true
   },
   "outputs": [
    {
     "data": {
      "text/html": [
       "<div>\n",
       "<style scoped>\n",
       "    .dataframe tbody tr th:only-of-type {\n",
       "        vertical-align: middle;\n",
       "    }\n",
       "\n",
       "    .dataframe tbody tr th {\n",
       "        vertical-align: top;\n",
       "    }\n",
       "\n",
       "    .dataframe thead th {\n",
       "        text-align: right;\n",
       "    }\n",
       "</style>\n",
       "<table border=\"1\" class=\"dataframe\">\n",
       "  <thead>\n",
       "    <tr style=\"text-align: right;\">\n",
       "      <th></th>\n",
       "      <th>User Type</th>\n",
       "      <th>SOC Change (%)</th>\n",
       "    </tr>\n",
       "  </thead>\n",
       "  <tbody>\n",
       "    <tr>\n",
       "      <th>0</th>\n",
       "      <td>Commuter</td>\n",
       "      <td>56.748386</td>\n",
       "    </tr>\n",
       "    <tr>\n",
       "      <th>1</th>\n",
       "      <td>Casual Driver</td>\n",
       "      <td>74.548566</td>\n",
       "    </tr>\n",
       "    <tr>\n",
       "      <th>2</th>\n",
       "      <td>Commuter</td>\n",
       "      <td>63.063011</td>\n",
       "    </tr>\n",
       "    <tr>\n",
       "      <th>3</th>\n",
       "      <td>Long-Distance Traveler</td>\n",
       "      <td>16.504325</td>\n",
       "    </tr>\n",
       "    <tr>\n",
       "      <th>4</th>\n",
       "      <td>Long-Distance Traveler</td>\n",
       "      <td>9.484836</td>\n",
       "    </tr>\n",
       "    <tr>\n",
       "      <th>...</th>\n",
       "      <td>...</td>\n",
       "      <td>...</td>\n",
       "    </tr>\n",
       "    <tr>\n",
       "      <th>1315</th>\n",
       "      <td>Commuter</td>\n",
       "      <td>44.711850</td>\n",
       "    </tr>\n",
       "    <tr>\n",
       "      <th>1316</th>\n",
       "      <td>Casual Driver</td>\n",
       "      <td>61.640087</td>\n",
       "    </tr>\n",
       "    <tr>\n",
       "      <th>1317</th>\n",
       "      <td>Commuter</td>\n",
       "      <td>6.775798</td>\n",
       "    </tr>\n",
       "    <tr>\n",
       "      <th>1318</th>\n",
       "      <td>Commuter</td>\n",
       "      <td>-10.261424</td>\n",
       "    </tr>\n",
       "    <tr>\n",
       "      <th>1319</th>\n",
       "      <td>Commuter</td>\n",
       "      <td>-2.645636</td>\n",
       "    </tr>\n",
       "  </tbody>\n",
       "</table>\n",
       "<p>1131 rows × 2 columns</p>\n",
       "</div>"
      ],
      "text/plain": [
       "                   User Type  SOC Change (%)\n",
       "0                   Commuter       56.748386\n",
       "1              Casual Driver       74.548566\n",
       "2                   Commuter       63.063011\n",
       "3     Long-Distance Traveler       16.504325\n",
       "4     Long-Distance Traveler        9.484836\n",
       "...                      ...             ...\n",
       "1315                Commuter       44.711850\n",
       "1316           Casual Driver       61.640087\n",
       "1317                Commuter        6.775798\n",
       "1318                Commuter      -10.261424\n",
       "1319                Commuter       -2.645636\n",
       "\n",
       "[1131 rows x 2 columns]"
      ]
     },
     "execution_count": 52,
     "metadata": {},
     "output_type": "execute_result"
    }
   ],
   "source": [
    "# What type of drivers have the highest state of change/lowest state of change\n",
    "df[['User Type', 'SOC Change (%)']]"
   ]
  },
  {
   "cell_type": "markdown",
   "id": "8c3b3900-d909-48f7-a51f-904d443282b1",
   "metadata": {},
   "source": [
    "## Step 8: Analyzing Driver Type and SOC Change\n",
    "We will now analyze the relationship between driver types and their SOC changes during charging. This will help us understand whether different types of users (e.g., casual drivers, long-distance travelers) have different charging habits."
   ]
  },
  {
   "cell_type": "code",
   "execution_count": 53,
   "id": "c8181de8-970a-4935-a393-0b6d8d4c759c",
   "metadata": {},
   "outputs": [
    {
     "data": {
      "text/html": [
       "<div>\n",
       "<style scoped>\n",
       "    .dataframe tbody tr th:only-of-type {\n",
       "        vertical-align: middle;\n",
       "    }\n",
       "\n",
       "    .dataframe tbody tr th {\n",
       "        vertical-align: top;\n",
       "    }\n",
       "\n",
       "    .dataframe thead th {\n",
       "        text-align: right;\n",
       "    }\n",
       "</style>\n",
       "<table border=\"1\" class=\"dataframe\">\n",
       "  <thead>\n",
       "    <tr style=\"text-align: right;\">\n",
       "      <th></th>\n",
       "      <th>User Type</th>\n",
       "      <th>SOC Change (%)</th>\n",
       "    </tr>\n",
       "  </thead>\n",
       "  <tbody>\n",
       "    <tr>\n",
       "      <th>0</th>\n",
       "      <td>Casual Driver</td>\n",
       "      <td>28.633663</td>\n",
       "    </tr>\n",
       "    <tr>\n",
       "      <th>1</th>\n",
       "      <td>Commuter</td>\n",
       "      <td>25.534076</td>\n",
       "    </tr>\n",
       "    <tr>\n",
       "      <th>2</th>\n",
       "      <td>Long-Distance Traveler</td>\n",
       "      <td>23.457807</td>\n",
       "    </tr>\n",
       "  </tbody>\n",
       "</table>\n",
       "</div>"
      ],
      "text/plain": [
       "                User Type  SOC Change (%)\n",
       "0           Casual Driver       28.633663\n",
       "1                Commuter       25.534076\n",
       "2  Long-Distance Traveler       23.457807"
      ]
     },
     "execution_count": 53,
     "metadata": {},
     "output_type": "execute_result"
    }
   ],
   "source": [
    "# Grouping the drivers and getting the mean of State OF Change per group\n",
    "\n",
    "driver_state_change = df.groupby(by = 'User Type')['SOC Change (%)'].mean().reset_index()\n",
    "driver_state_change"
   ]
  },
  {
   "cell_type": "code",
   "execution_count": 54,
   "id": "2762c62c-241f-4b28-8fb8-1af1f787ac23",
   "metadata": {},
   "outputs": [
    {
     "data": {
      "text/html": [
       "<div>\n",
       "<style scoped>\n",
       "    .dataframe tbody tr th:only-of-type {\n",
       "        vertical-align: middle;\n",
       "    }\n",
       "\n",
       "    .dataframe tbody tr th {\n",
       "        vertical-align: top;\n",
       "    }\n",
       "\n",
       "    .dataframe thead th {\n",
       "        text-align: right;\n",
       "    }\n",
       "</style>\n",
       "<table border=\"1\" class=\"dataframe\">\n",
       "  <thead>\n",
       "    <tr style=\"text-align: right;\">\n",
       "      <th></th>\n",
       "      <th>User Type</th>\n",
       "      <th>SOC Change (%)</th>\n",
       "    </tr>\n",
       "  </thead>\n",
       "  <tbody>\n",
       "    <tr>\n",
       "      <th>0</th>\n",
       "      <td>Casual Driver</td>\n",
       "      <td>28.633663</td>\n",
       "    </tr>\n",
       "    <tr>\n",
       "      <th>1</th>\n",
       "      <td>Commuter</td>\n",
       "      <td>25.534076</td>\n",
       "    </tr>\n",
       "    <tr>\n",
       "      <th>2</th>\n",
       "      <td>Long-Distance Traveler</td>\n",
       "      <td>23.457807</td>\n",
       "    </tr>\n",
       "  </tbody>\n",
       "</table>\n",
       "</div>"
      ],
      "text/plain": [
       "                User Type  SOC Change (%)\n",
       "0           Casual Driver       28.633663\n",
       "1                Commuter       25.534076\n",
       "2  Long-Distance Traveler       23.457807"
      ]
     },
     "execution_count": 54,
     "metadata": {},
     "output_type": "execute_result"
    }
   ],
   "source": [
    "# Sorting from the highest state of change to the lowest\n",
    "\n",
    "driver_state_change_sorted = driver_state_change.sort_values(by='SOC Change (%)', ascending=False)\n",
    "driver_state_change_sorted"
   ]
  },
  {
   "cell_type": "markdown",
   "id": "d12ae480-6b96-4571-8f2c-8abd6e67c4d3",
   "metadata": {},
   "source": [
    "### Sub-step 8.2: Visualizing SoC Change by Driver Type\n",
    "We will visualize the average SoC change for each driver type using a line graph to better understand how charging behavior varies among different user groups."
   ]
  },
  {
   "cell_type": "markdown",
   "id": "e77bd988-0222-4980-9144-ca28e6721e76",
   "metadata": {},
   "source": [
    "### Answer:\n",
    "From the line graph, we can see that casual drivers have the highest average SOC change (approximately 29%), while long distance travelers have the lowest SOC change (around 23.5%). This indicates that casual drivers may be more patient or have fewer constraints, while long distance travelers likely prioritize quick charging."
   ]
  },
  {
   "cell_type": "code",
   "execution_count": 55,
   "id": "8a1b3591-6b04-4b0e-9a5d-ba004804a2d3",
   "metadata": {},
   "outputs": [
    {
     "data": {
      "text/plain": [
       "([0, 1, 2],\n",
       " [Text(0, 0, 'Casual Driver'),\n",
       "  Text(1, 0, 'Commuter'),\n",
       "  Text(2, 0, 'Long-Distance Traveler')])"
      ]
     },
     "execution_count": 55,
     "metadata": {},
     "output_type": "execute_result"
    },
    {
     "data": {
      "image/png": "[encoded data removed]",
      "text/plain": [
       "<Figure size 640x480 with 1 Axes>"
      ]
     },
     "metadata": {},
     "output_type": "display_data"
    }
   ],
   "source": [
    "# The line graph shows that casual drivers have the highest average state of change at approx. 29% & long distance with the lowest at approx. 23.5%\n",
    "# Long distance travelers are less patient than the casuals\n",
    "\n",
    "plt.plot(driver_state_change_sorted['User Type'], driver_state_change_sorted['SOC Change (%)'], marker = 'o', linestyle = '-', color = 'blue')\n",
    "\n",
    "plt.xlabel('User Type')\n",
    "plt.ylabel('Average SoC Change (%)')\n",
    "plt.xticks(rotation=30)"
   ]
  }
 ],
 "metadata": {
  "kernelspec": {
   "display_name": "Python 3",
   "language": "python",
   "name": "python3"
  },
  "language_info": {
   "codemirror_mode": {
    "name": "ipython",
    "version": 3
   },
   "file_extension": ".py",
   "mimetype": "text/x-python",
   "name": "python",
   "nbconvert_exporter": "python",
   "pygments_lexer": "ipython3",
   "version": "3.11.5"
  }
 },
 "nbformat": 4,
 "nbformat_minor": 5
}
